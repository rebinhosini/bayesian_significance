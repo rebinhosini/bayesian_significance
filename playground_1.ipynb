{
 "cells": [
  {
   "cell_type": "code",
   "execution_count": null,
   "metadata": {},
   "outputs": [],
   "source": [
    "import pandas\n",
    "import pymc3 as pm\n",
    "import warnings\n",
    "import arviz as az\n",
    "from matplotlib import pyplot as plt\n",
    "\n",
    "warnings.filterwarnings('ignore')"
   ]
  },
  {
   "cell_type": "code",
   "execution_count": null,
   "metadata": {},
   "outputs": [],
   "source": [
    "c_obs = 1300\n",
    "v_obs = 1500\n",
    "c_conversions = 273\n",
    "v_conversions = 570\n",
    "\n",
    "\n",
    "#group A\n",
    "with pm.Model() as control:\n",
    "    \n",
    "    #Prior\n",
    "    p_A=pm.Beta('Control', alpha = 1, beta= 1)  \n",
    "    \n",
    "    #fit the observed data\n",
    "    obs=pm.Binomial(\"Observed\", n=c_obs, p=p_A, observed=c_conversions)\n",
    "    \n",
    "    trace_control = pm.sample(1000)\n",
    "    \n",
    "\n",
    "with pm.Model() as variant:\n",
    "    #Prior\n",
    "    p_B=pm.Beta('Variant', alpha=1, beta=1)  \n",
    "    \n",
    "    #fit the observed data to our model \n",
    "    obs=pm.Binomial(\"Observed\", n=v_obs, p=p_B, observed=v_conversions)\n",
    "    \n",
    "    trace_variant = pm.sample(1000)\n",
    "    \n",
    "    \n",
    "    \n",
    "    "
   ]
  },
  {
   "cell_type": "code",
   "execution_count": null,
   "metadata": {},
   "outputs": [],
   "source": [
    "\n",
    "plt.rcParams[\"figure.figsize\"] = (20,4)\n",
    "az.plot_posterior(trace_control)"
   ]
  },
  {
   "cell_type": "code",
   "execution_count": null,
   "metadata": {},
   "outputs": [],
   "source": [
    "samples_posterior_control=trace_control['Control']\n",
    "samples_posterior_variant=trace_variant['Variant']\n",
    "\n"
   ]
  },
  {
   "cell_type": "code",
   "execution_count": null,
   "metadata": {},
   "outputs": [],
   "source": [
    "from matplotlib import pyplot as plt\n",
    "\n",
    "plt.rcParams[\"figure.figsize\"] = (20,4)\n",
    "plt.hist(samples_posterior_control, bins=40, label='posterior of control', density=True)\n",
    "plt.hist(samples_posterior_variant, bins=40, label='posterior of variant', density=True)\n",
    "plt.xlabel('Value')\n",
    "plt.ylabel('Density')\n",
    "plt.title(\"Posterior distributions of the conversion rates of control and variant\")\n",
    "plt.legend()\n",
    "plt.show()"
   ]
  },
  {
   "cell_type": "code",
   "execution_count": null,
   "metadata": {},
   "outputs": [],
   "source": [
    "difference=samples_posterior_variant-samples_posterior_control\n",
    "plt.rcParams[\"figure.figsize\"] = (20,4)\n",
    "plt.hist(difference, bins=40, density=True)\n",
    "plt.vlines(0.14, 0, 25, linestyle='--', color='red')\n",
    "plt.title('Posterior distribution of the difference of the two means')\n",
    "plt.show()"
   ]
  },
  {
   "cell_type": "code",
   "execution_count": null,
   "metadata": {},
   "outputs": [],
   "source": [
    "rel_difference=100*(samples_posterior_variant-samples_posterior_control)/samples_posterior_control\n",
    "plt.rcParams[\"figure.figsize\"] = (20,4)\n",
    "plt.hist(rel_difference, bins=40, density=True)\n",
    "plt.vlines(60, 0, 0.04, linestyle='--', color='red')\n",
    "plt.title('Posterior distribution of the relative difference of the two means')\n",
    "plt.xlabel(\"percentage\")\n",
    "plt.show()"
   ]
  },
  {
   "cell_type": "code",
   "execution_count": null,
   "metadata": {},
   "outputs": [],
   "source": [
    "100*len(rel_difference[rel_difference>50])*1.0/len(rel_difference)"
   ]
  },
  {
   "cell_type": "code",
   "execution_count": null,
   "metadata": {},
   "outputs": [],
   "source": [
    "\n",
    "print(f'Probability that Variant is better: {(samples_posterior_B > samples_posterior_A).mean():.1%}.')"
   ]
  },
  {
   "cell_type": "code",
   "execution_count": null,
   "metadata": {},
   "outputs": [],
   "source": [
    "\n",
    "az.plot_posterior(rel_difference, var_names=None, ref_val=0, kind = 'hist', hdi_prob = .95)"
   ]
  },
  {
   "cell_type": "code",
   "execution_count": null,
   "metadata": {},
   "outputs": [],
   "source": [
    "\n",
    "def check_significance(data, hdi_prob):\n",
    "    \n",
    "    #Not all values of hdi_prob area allowed\n",
    "    \n",
    "    \n",
    "    lower = round(((1-(hdi_prob))/2)*100, 1)\n",
    "    upper = 100*hdi_prob+lower\n",
    "    \n",
    "    summary = az.summary(data, hdi_prob=hdi_prob)\n",
    "    \n",
    "    assert summary.columns[2] == 'hdi_{}%'.format(lower)\n",
    "    assert summary.columns[3] == 'hdi_{}%'.format(upper)\n",
    "    \n",
    "    \n",
    "    print(\n",
    "        not summary['hdi_{}%'.format(lower)][0] <= 0 <=  summary['hdi_{}%'.format(upper)][0], \n",
    "        summary['hdi_{}%'.format(lower)][0],\n",
    "        summary['hdi_{}%'.format(upper)][0]\n",
    "    )\n",
    "\n",
    "    \n",
    "    \n"
   ]
  },
  {
   "cell_type": "code",
   "execution_count": null,
   "metadata": {},
   "outputs": [],
   "source": [
    "check_significance(rel_difference, hdi_prob)"
   ]
  },
  {
   "cell_type": "code",
   "execution_count": null,
   "metadata": {},
   "outputs": [],
   "source": [
    "summary = az.summary(rel_difference, hdi_prob = 0.95)\n",
    "\n",
    "#if 2 in range(summary['hdi_97.5%'][0],  summary['hdi_2.5%'][0]):\n",
    "#    print('hell0')\n",
    "    \n",
    "summary['hdi_97.5%'][0] <= 0 <= summary['hdi_2.5%'][0]\n",
    "    \n",
    "\n"
   ]
  },
  {
   "cell_type": "code",
   "execution_count": null,
   "metadata": {},
   "outputs": [],
   "source": [
    "summary['hdi_97.5%'][0]"
   ]
  }
 ],
 "metadata": {
  "kernelspec": {
   "display_name": "Python 3",
   "language": "python",
   "name": "python3"
  },
  "language_info": {
   "codemirror_mode": {
    "name": "ipython",
    "version": 3
   },
   "file_extension": ".py",
   "mimetype": "text/x-python",
   "name": "python",
   "nbconvert_exporter": "python",
   "pygments_lexer": "ipython3",
   "version": "3.8.5"
  }
 },
 "nbformat": 4,
 "nbformat_minor": 4
}
