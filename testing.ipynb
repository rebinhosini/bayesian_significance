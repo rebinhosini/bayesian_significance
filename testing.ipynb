{
 "cells": [
  {
   "cell_type": "code",
   "execution_count": null,
   "metadata": {},
   "outputs": [],
   "source": [
    "from beta_binomial_significance import beta_binomial_testing as bt \n",
    "import pymc3 as pm\n",
    "import warnings\n",
    "import arviz as az\n",
    "import numpy as np \n",
    "from matplotlib import pyplot as plt\n",
    "warnings.filterwarnings('ignore')\n",
    "\n",
    "init = bt(\n",
    "    v_observations = 1200, \n",
    "    v_conversions = 200, \n",
    "    c_observations = 12000,\n",
    "    c_conversions = 2340\n",
    ")\n",
    "\n",
    "\n",
    "init.run_models()\n",
    "init.check_significance()\n",
    "init.plot_distributions()\n",
    "\n"
   ]
  },
  {
   "cell_type": "code",
   "execution_count": null,
   "metadata": {},
   "outputs": [],
   "source": []
  },
  {
   "cell_type": "code",
   "execution_count": null,
   "metadata": {},
   "outputs": [],
   "source": []
  }
 ],
 "metadata": {
  "kernelspec": {
   "display_name": "Python 3",
   "language": "python",
   "name": "python3"
  },
  "language_info": {
   "codemirror_mode": {
    "name": "ipython",
    "version": 3
   },
   "file_extension": ".py",
   "mimetype": "text/x-python",
   "name": "python",
   "nbconvert_exporter": "python",
   "pygments_lexer": "ipython3",
   "version": "3.8.5"
  }
 },
 "nbformat": 4,
 "nbformat_minor": 4
}
