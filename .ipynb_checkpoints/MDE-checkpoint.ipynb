{
 "cells": [
  {
   "cell_type": "code",
   "execution_count": 38,
   "metadata": {},
   "outputs": [
    {
     "name": "stdout",
     "output_type": "stream",
     "text": [
      "55431\n",
      "0.020000000000000018\n"
     ]
    }
   ],
   "source": [
    "#Minimal detectable value \n",
    "\n",
    "\n",
    "n1 = 100\n",
    "n2 = 100\n",
    "r = n1/n2\n",
    "\n",
    "p1 = 0.5\n",
    "p2 = 0.51\n",
    "\n",
    "\n",
    "#((1.96+0.84)**2)*\n",
    "\n",
    "nominator = ((1.96+0.84)**2)*(p1*(1-p1)+p2*(1-p2)*r)**0.5\n",
    "denominator = (p1-p2)**2\n",
    "\n",
    "\n",
    "print(int(nominator/denominator))\n",
    "print((p2-p1)/p1)\n",
    "\n",
    "\n"
   ]
  },
  {
   "cell_type": "code",
   "execution_count": 53,
   "metadata": {},
   "outputs": [
    {
     "data": {
      "text/plain": [
       "(7, 6577)"
      ]
     },
     "execution_count": 53,
     "metadata": {},
     "output_type": "execute_result"
    }
   ],
   "source": [
    "def sample_size_calculator(p1, uplift = 0.05, daily_variant_volume = 1000, ratio = 1): \n",
    "    p2 = p1*(uplift+1)\n",
    "    nom = ((1.96+0.84)**2)*(p1*(1-p1)+p2*(1-p2)*ratio)**0.5\n",
    "    denom = (p1-p2)**2\n",
    "    \n",
    "    days_to_run = int(nom/denom)/daily_variant_volume\n",
    "    \n",
    "    return round(days_to_run), int(nom/denom)\n",
    "\n",
    "sample_size_calculator(0.5, 0.05, ratio = 0.1)\n",
    "\n",
    "    "
   ]
  }
 ],
 "metadata": {
  "kernelspec": {
   "display_name": "Python 3",
   "language": "python",
   "name": "python3"
  },
  "language_info": {
   "codemirror_mode": {
    "name": "ipython",
    "version": 3
   },
   "file_extension": ".py",
   "mimetype": "text/x-python",
   "name": "python",
   "nbconvert_exporter": "python",
   "pygments_lexer": "ipython3",
   "version": "3.8.5"
  }
 },
 "nbformat": 4,
 "nbformat_minor": 4
}
